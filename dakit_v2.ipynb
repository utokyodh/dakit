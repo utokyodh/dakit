{
  "nbformat": 4,
  "nbformat_minor": 0,
  "metadata": {
    "colab": {
      "provenance": []
    },
    "kernelspec": {
      "name": "python3",
      "display_name": "Python 3"
    },
    "language_info": {
      "name": "python"
    }
  },
  "cells": [
    {
      "cell_type": "markdown",
      "source": [
        "### 1. セットアップ\n",
        "時間がかかる場合がありますが、ブラウザを閉じずにお待ちください。"
      ],
      "metadata": {
        "id": "wsCiqxeOBdxa"
      }
    },
    {
      "cell_type": "code",
      "execution_count": null,
      "metadata": {
        "id": "uGN_J69Ch7sA"
      },
      "outputs": [],
      "source": [
        "# Node.jsのインストール\n",
        "!dpkg --configure -a > /dev/null\n",
        "!sudo apt-get update > /dev/null\n",
        "!sudo apt-get install -y ca-certificates curl gnupg > /dev/null\n",
        "!sudo mkdir -p /etc/apt/keyrings\n",
        "!curl -fsSL https://deb.nodesource.com/gpgkey/nodesource-repo.gpg.key | sudo gpg --dearmor -o /etc/apt/keyrings/nodesource.gpg\n",
        "!NODE_MAJOR=18 && echo \"deb [signed-by=/etc/apt/keyrings/nodesource.gpg] https://deb.nodesource.com/node_$NODE_MAJOR.x nodistro main\" | sudo tee /etc/apt/sources.list.d/nodesource.list\n",
        "!sudo apt-get update > /dev/null\n",
        "!sudo apt-get install nodejs -y > /dev/null\n",
        "\n",
        "# 必要なライブラリのインストール\n",
        "!pip install jinja2 > /dev/null\n",
        "!pip install openpyxl > /dev/null\n",
        "!pip install pandas > /dev/null\n",
        "\n",
        "from datetime import datetime\n",
        "import hashlib\n",
        "import json\n",
        "import os\n",
        "import re\n",
        "from urllib.parse import urlparse\n",
        "\n",
        "from google.colab import files\n",
        "from jinja2 import Template, FileSystemLoader, Environment\n",
        "import openpyxl\n",
        "import pandas as pd\n",
        "\n",
        "###### 関数 ######\n",
        "\n",
        "def get_datetime():\n",
        "    return datetime.now().strftime('%Y%m%d%H%M%S')\n",
        "\n",
        "##################\n",
        "\n",
        "###### 定数 ######\n",
        "\n",
        "env = Environment(loader=FileSystemLoader('.'))\n",
        "JDCAT_ELEMENTS = [\"Title\", \"Study ID\", \"Author\", \"Distributor\", \"URI\", \"Topic\", \"Summary\", \"Time Period(s)\", \"Geographic Coverage\", \"Data Type\", \"Access\", \"License\", \"DOI\", \"Data Language\", \"Version\", \"Unit of Analysis\", \"Universe / Population\", \"Sampling Procedure\", \"Collection method\", \"Funding Agency\", \"Grant ID\", \"Alternative title\", \"Series\", \"Date of collection\", \"Sampling Rate\", \"Bibliographic Citation\", \"Datafile URI\", \"Related Studies\", \"Related Publications\", \"Publisher\", \"Provider\"]\n",
        "\n",
        "##################\n",
        "\n",
        "!rm -rf /content/dakit2-minimal\n",
        "!git clone https://github.com/adachi-a/dakit2-minimal\n",
        "os.chdir(\"/content/dakit2-minimal\")\n",
        "!npm install > /dev/null"
      ]
    },
    {
      "cell_type": "code",
      "source": [
        "# @title 2. 設定\n",
        "サイトのタイトル = \"DAKit Test Site\" # @param {type:\"string\"}\n",
        "dakit_site_title = サイトのタイトル\n",
        "サイトの作成者 = \"adachi-a\" # @param {type:\"string\"}\n",
        "dakit_site_author = サイトの作成者\n",
        "サイトのURL = \"https://adachi-a.github.io/dakit2/\" # @param {type:\"string\"}\n",
        "dakit_site_url = サイトのURL\n",
        "検索エンジンにインデックスさせない = True # @param {type:\"boolean\"}\n",
        "dakit_noindex = 検索エンジンにインデックスさせない\n",
        "カラーテーマ = \"secondary\" # @param {type:\"string\"}\n",
        "dakit_bs_theme_bg = カラーテーマ\n",
        "\n",
        "if dakit_site_title == \"\":\n",
        "    raise ValueError(\"dakit_site_titleを空白にすることはできません。\")\n",
        "if dakit_site_author == \"\":\n",
        "    raise ValueError(\"dakit_site_authorを空白にすることはできません。\")\n",
        "if dakit_site_url == \"\":\n",
        "    raise ValueError(\"dakit_site_urlを空白にすることはできません。\")\n",
        "\n",
        "if not dakit_site_url.endswith(\"/\"):\n",
        "    dakit_site_url += \"/\" # add trailing slash\n",
        "\n",
        "base_url_parse_result = urlparse(dakit_site_url)\n",
        "\n",
        "# vite.config.js\n",
        "with open(\"./vite.config.js\", \"w\") as f:\n",
        "    f.write(f\"\"\"\n",
        "import {{ defineConfig }} from 'vite';\n",
        "import {{ svelte }} from '@sveltejs/vite-plugin-svelte';\n",
        "\n",
        "// https://vitejs.dev/config/\n",
        "export default defineConfig({{\n",
        "  plugins: [svelte()],\n",
        "  base: '{base_url_parse_result.path}',\n",
        "}});\n",
        "    \"\"\")"
      ],
      "metadata": {
        "id": "TqxgsBvZjNkv"
      },
      "execution_count": null,
      "outputs": []
    },
    {
      "cell_type": "markdown",
      "source": [
        " ### 3. メタデータの読み込み\n",
        " - 読み込ませるExcelブックは、メタデータを記載した`data`と画像情報を記載した`images`の2つのシートだけを持つ必要があります。\n",
        " - `data`シートの一番左の列は`id`とし、列内で重複のないようにします（検索用であり資料のメタデータとは異なります）。"
      ],
      "metadata": {
        "id": "KyRFCsWkCUR5"
      }
    },
    {
      "cell_type": "code",
      "source": [
        "uploaded = files.upload()\n",
        "metadata_filename = next(iter(uploaded))\n",
        "book = openpyxl.load_workbook(metadata_filename)\n",
        "\n",
        "if book.sheetnames != [\"data\", \"images\"]:\n",
        "    raise ValueError('Excelブックは\"data\"と”images\"の2つのシートだけを持つようにします。')\n",
        "\n",
        "catalog = pd.read_excel(metadata_filename, sheet_name=\"data\").fillna(\"\")\n",
        "image_list = pd.read_excel(metadata_filename, sheet_name=\"images\").fillna(\"\")\n",
        "\n",
        "if catalog.columns[0] != \"id\":\n",
        "    raise ValueError('dataの一番左の列は常に\"id\"とする必要があります。')\n",
        "\n",
        "os.makedirs(\"./public\", exist_ok=True)\n",
        "catalog.to_json(\"./public/data.json\", orient=\"records\", force_ascii=False)\n",
        "\n",
        "# catalogの列一覧を取得し、JDCatメタデータスキーマとのマッピング用のExcelファイルを返す\n",
        "catalog_columns = pd.DataFrame({\"列名\": catalog.columns, \"要素\": [\"\" for _ in range(len(catalog.columns))]}).T\n",
        "catalog_columns_datetime = get_datetime()\n",
        "catalog_columns.to_excel(f\"mapping_{catalog_columns_datetime}.xlsx\", index=False)\n",
        "files.download(f\"mapping_{catalog_columns_datetime}.xlsx\")"
      ],
      "metadata": {
        "id": "n1RO3eK9kIRm"
      },
      "execution_count": null,
      "outputs": []
    },
    {
      "cell_type": "markdown",
      "source": [
        "### 4. メタデータのマッピング\n",
        "上のセルでダウンロードしたExcelブックに、JDCatメタデータスキーマの要素を記入してアップロードします。"
      ],
      "metadata": {
        "id": "acpTaHWsCdly"
      }
    },
    {
      "cell_type": "code",
      "source": [
        "uploaded = files.upload()\n",
        "mapping_filename = next(iter(uploaded))\n",
        "\n",
        "# JDCatメタデータスキーマとのマッピング用のExcelファイルの読み込み\n",
        "map_df = pd.read_excel(mapping_filename, header=0, index_col=None).fillna(\"\").T\n",
        "\n",
        "map_dict = {}\n",
        "\n",
        "for el in JDCAT_ELEMENTS:\n",
        "    map_dict[el] = \"\"\n",
        "\n",
        "for _, element in map_df.iterrows():\n",
        "    if element[1] != \"\" and element[1] in JDCAT_ELEMENTS:\n",
        "        map_dict[element[1]] = element[0]"
      ],
      "metadata": {
        "id": "MagZSQ_YmH7a"
      },
      "execution_count": null,
      "outputs": []
    },
    {
      "cell_type": "code",
      "source": [
        "# @title 5. 検索ページの設定\n",
        "資料のIDの列名 = \"資料番号\" # @param {type:\"string\"}\n",
        "dakit_item_id_column_name = 資料のIDの列名\n",
        "資料のタイトルの列名 = \"タイトル\" # @param {type:\"string\"}\n",
        "dakit_item_title_column_name = 資料のタイトルの列名\n",
        "\n",
        "# fuse_keys = ... 検索対象列名\n",
        "fuse_keys: list = ['タイトル', '別タイトル']\n",
        "\n",
        "# ソートの設定\n",
        "itemsjs_sortings = {\n",
        "      \"資料番号(昇順)\": {\n",
        "        \"field\": '資料番号',\n",
        "        \"order\": 'asc',\n",
        "      },\n",
        "      \"資料番号(降順)\": {\n",
        "        \"field\": '資料番号',\n",
        "        \"order\": 'desc',\n",
        "      },\n",
        "}\n",
        "\n",
        "# 絞り込みの設定\n",
        "itemsjs_aggregations = {\n",
        "      \"内容分類\": {\n",
        "        \"title\": '内容分類',\n",
        "        \"conjunction\": False,\n",
        "      },\n",
        "      \"資料分類\": {\n",
        "        \"title\": '資料分類',\n",
        "        \"conjunction\": False,\n",
        "      },\n",
        "      \"印刷分類\": {\n",
        "        \"title\": '印刷分類',\n",
        "        \"conjunction\": False,\n",
        "      }\n",
        "}\n",
        "\n",
        "# 検索ページの表示方法の設定\n",
        "dakit_display_keys_string: str = \",\".join(catalog.columns.to_list())\n",
        "dakit_display_template_string: str = \"\"\"\n",
        "<a href=\"./items/{資料番号}.html\" target=\"_blank\"><h5 class=\"mb-0\">{タイトル}</h5></a>\n",
        "<p class=\"mb-1\"><small>{別タイトル} {内容分類} {資料分類} {印刷分類} {年月日} {サイズ} {備考}</small></p>\n",
        "\"\"\"\n",
        "\n",
        "#dakit_fuse_keys.json\n",
        "with open(\"./src/dakit_fuse_keys.json\",\"w\") as f:\n",
        "    json.dump(fuse_keys, f, indent=2, ensure_ascii=False)\n",
        "\n",
        "#dakit_itemsjs_configuration.json\n",
        "itemsjs_configuration: dict = {\n",
        "    \"sortings\": itemsjs_sortings,\n",
        "    \"aggregations\": itemsjs_aggregations,\n",
        "    \"removeStopWordFilter\": True,\n",
        "    \"native_search_enabled\": False,\n",
        "    \"custom_id_field\": 'id'\n",
        "}\n",
        "\n",
        "with open(\"./src/dakit_itemsjs_configuration.json\",\"w\") as f:\n",
        "    json.dump(itemsjs_configuration, f, indent=2, ensure_ascii=False)\n",
        "\n",
        "template = env.get_template('./kit/Search.svelte.jinja')\n",
        "\n",
        "with open(\"./src/Search.svelte\", \"w\") as f:\n",
        "    f.write(template.render(\n",
        "        dakit_site_title=dakit_site_title,\n",
        "        dakit_site_url=dakit_site_url,\n",
        "        dakit_noindex=dakit_noindex,\n",
        "        dakit_display_keys_string=dakit_display_keys_string,\n",
        "        dakit_display_template_string=dakit_display_template_string,\n",
        "    ))\n",
        "\n",
        "template = env.get_template('./kit/index.html.jinja')\n",
        "\n",
        "with open(\"./index.html\", \"w\") as f:\n",
        "    f.write(template.render(\n",
        "        dakit_site_title=dakit_site_title\n",
        "    ))\n",
        "\n",
        "template = env.get_template('./kit/App.svelte.jinja')\n",
        "\n",
        "with open(\"./src/App.svelte\", \"w\") as f:\n",
        "    f.write(template.render(\n",
        "        dakit_site_title=dakit_site_title,\n",
        "        dakit_noindex=dakit_noindex,\n",
        "        dakit_bs_theme_bg=dakit_bs_theme_bg\n",
        "    ))"
      ],
      "metadata": {
        "id": "ZoaHWuNOprgK"
      },
      "execution_count": null,
      "outputs": []
    },
    {
      "cell_type": "markdown",
      "source": [
        "### 6. 検索ページ群の生成"
      ],
      "metadata": {
        "id": "wXXeaEwxDfEE"
      }
    },
    {
      "cell_type": "code",
      "source": [
        "!npm run build"
      ],
      "metadata": {
        "id": "YCtU8Q23r9ZX"
      },
      "execution_count": null,
      "outputs": []
    },
    {
      "cell_type": "markdown",
      "source": [
        "### 7. 個別ページ群の生成"
      ],
      "metadata": {
        "id": "fUHXZ2ZdDiRl"
      }
    },
    {
      "cell_type": "code",
      "source": [
        "template_image = env.get_template('./kit/item.html.jinja')\n",
        "template_no_image = env.get_template('./kit/item_no_image.html.jinja')\n",
        "items_with_image = set(image_list[\"id\"].to_list())\n",
        "os.makedirs(\"./dist/items/images\", exist_ok=True)\n",
        "\n",
        "for item in catalog.iterrows():\n",
        "    item_id = item[1][dakit_item_id_column_name]\n",
        "    item_title = item[1][dakit_item_title_column_name]\n",
        "    item_metadata = item[1].to_dict()\n",
        "    if item_id not in items_with_image:\n",
        "        template = template_no_image\n",
        "        with open(f\"./dist/items/{item_id}.html\", \"w\") as f:\n",
        "            f.write(template.render(\n",
        "                dakit_site_title=dakit_site_title,\n",
        "                dakit_site_url=dakit_site_url,\n",
        "                dakit_noindex=dakit_noindex,\n",
        "                dakit_bs_theme_bg=dakit_bs_theme_bg,\n",
        "                item_title=item_title,\n",
        "                item_metadata_filename=f\"../jpcoar/{item_id}.xml\",\n",
        "                item_metadata=item_metadata\n",
        "            ))\n",
        "    else:\n",
        "        template = template_image\n",
        "        item_image_list = image_list[image_list[\"id\"] == item_id][\"path\"].to_list()\n",
        "        item_image_array = [{\"src\": x} for x in item_image_list]\n",
        "        with open(f\"./dist/items/{item_id}.html\", \"w\") as f:\n",
        "            f.write(template.render(\n",
        "                dakit_site_title=dakit_site_title,\n",
        "                dakit_site_url=dakit_site_url,\n",
        "                dakit_noindex=dakit_noindex,\n",
        "                dakit_bs_theme_bg=dakit_bs_theme_bg,\n",
        "                item_title=item_title,\n",
        "                item_metadata_filename=f\"../jpcoar/{item_id}.xml\",\n",
        "                item_metadata=item_metadata,\n",
        "                item_image_list=item_image_list,\n",
        "                item_image_array=item_image_array\n",
        "            ))"
      ],
      "metadata": {
        "id": "GI4ViU8Xth-X"
      },
      "execution_count": null,
      "outputs": []
    },
    {
      "cell_type": "markdown",
      "source": [
        "### 8. メタデータファイルの生成"
      ],
      "metadata": {
        "id": "HIJnC7RODoEb"
      }
    },
    {
      "cell_type": "code",
      "source": [
        "os.makedirs(\"./dist/jpcoar\", exist_ok=True)\n",
        "for _, item in catalog.iterrows():\n",
        "\n",
        "    row = {}\n",
        "\n",
        "    for el in JDCAT_ELEMENTS:\n",
        "        if map_dict[el]:\n",
        "            row[el] = item[map_dict[el]]\n",
        "        else:\n",
        "            row[el] = \"\"\n",
        "\n",
        "    template =f\"\"\"<jpcoar:jpcoar xmlns:datacite=\"https://schema.datacite.org/meta/kernel-4/\" xmlns:dc=\"http://purl.org/dc/elements/1.1/\" xmlns:dcndl=\"http://ndl.go.jp/dcndl/terms/\" xmlns:dcterms=\"http://purl.org/dc/terms/\" xmlns:jpcoar=\"https://github.com/JPCOAR/schema/blob/master/1.0/\" xmlns:oaire=\"http://namespace.openaire.eu/schema/oaire/\" xmlns:rdf=\"http://www.w3.org/1999/02/22-rdf-syntax-ns#\" xmlns:rioxxterms=\"http://www.rioxx.net/schema/v2.0/rioxxterms/\" xmlns:xsi=\"http://www.w3.org/2001/XMLSchema-instance\" xsi:schemaLocation=\"https://github.com/JPCOAR/schema/blob/master/1.0/jpcoar_scm.xsd\">\n",
        "        <dc:title xml:lang=\"ja\">{row[\"Title\"]}</dc:title>\n",
        "        <jpcoar:relatedIdentifier identifierType=\"Local\">{row[\"Study ID\"]}</jpcoar:relatedIdentifier>\n",
        "        <jpcoar:creator><jpcoar:creatorName>{row[\"Author\"]}</jpcoar:creatorName></jpcoar:creator>\n",
        "        <jpcoar:contributor contributorType=\"Distributor\">\n",
        "            <jpcoar:contributorName>\n",
        "            {row[\"Distributor\"]}\n",
        "            </jpcoar:contributorName>\n",
        "        </jpcoar:contributor>\n",
        "        <jpcoar:identifier identifierType=\"URI\">\n",
        "            {row[\"URI\"]}\n",
        "        </jpcoar:identifier>\n",
        "        <jpcoar:subject subjectScheme=\"Other\">\n",
        "            {row[\"Topic\"]}\n",
        "        </jpcoar:subject>\n",
        "        <datacite:description descriptionType=\"Abstract\">\n",
        "            {row[\"Summary\"]}\n",
        "        </datacite:description>\n",
        "        <dcterms:temporal>\n",
        "        {row[\"Time Period(s)\"]}\n",
        "        </dcterms:temporal>\n",
        "        <datacite:geoLocationPlace>\n",
        "        {row[\"Geographic Coverage\"]}\n",
        "        </datacite:geoLocationPlace>\n",
        "        <datacite:description descriptionType=\"Other\">\n",
        "        {row[\"Data Type\"]}\n",
        "        </datacite:description>\n",
        "        <dcterms:accessRights>\n",
        "        {row[\"Access\"]}\n",
        "        </dcterms:accessRights>\n",
        "        <dc:rights>\n",
        "        {row[\"License\"]}\n",
        "        </dc:rights>\n",
        "        <jpcoar:relatedIdentifier>\n",
        "        {row[\"DOI\"]}\n",
        "        </jpcoar:relatedIdentifier>\n",
        "        <dc:language>\n",
        "        {row[\"Data Language\"]}\n",
        "        </dc:language>\n",
        "        <datacite:version>\n",
        "        {row[\"Version\"]}\n",
        "        </datacite:version>\n",
        "        <datacite:description descriptionType=\"Methods\">\n",
        "        {row[\"Unit of Analysis\"]}\n",
        "        </datacite:description>\n",
        "        <datacite:description descriptionType=\"Methods\">\n",
        "        {row[\"Universe / Population\"]}\n",
        "        </datacite:description>\n",
        "        <datacite:description descriptionType=\"Methods\">\n",
        "        {row[\"Sampling Procedure\"]}\n",
        "        </datacite:description>\n",
        "        <datacite:description descriptionType=\"Methods\">\n",
        "        {row[\"Collection method\"]}\n",
        "        </datacite:description>\n",
        "        <jpcoar:funderName>\n",
        "        {row[\"Funding Agency\"]}\n",
        "        </jpcoar:funderName>\n",
        "        <datacite:awardNumber>\n",
        "        {row[\"Grant ID\"]}\n",
        "        </datacite:awardNumber>\n",
        "        <dcterms:alternative>\n",
        "        {row[\"Alternative title\"]}\n",
        "        </dcterms:alternative>\n",
        "        <datacite:description descriptionType=\"Methods\">\n",
        "        {row[\"Date of collection\"]}\n",
        "        </datacite:description>\n",
        "        <datacite:description descriptionType=\"Methods\">\n",
        "        {row[\"Sampling Rate\"]}\n",
        "        </datacite:description>\n",
        "        <jpcoar:URI>\n",
        "        {row[\"Datafile URI\"]}\n",
        "        </jpcoar:URI>\n",
        "        <jpcoar:relation relationType=\"isSupplementadBy\">\n",
        "        {row[\"Related Studies\"]}\n",
        "        </jpcoar:relation>\n",
        "        <jpcoar:relation relationType=\"isReferencedBy\">\n",
        "        {row[\"Related Publications\"]}\n",
        "        </jpcoar:relation>\n",
        "        <dc:publisher>\n",
        "        {row[\"Publisher\"]}\n",
        "        </dc:publisher>\n",
        "        <jpcoar:contributor contributorType=\"Others\">\n",
        "        {row[\"Provider\"]}\n",
        "        </jpcoar:contributor>\n",
        "      </jpcoar:jpcoar>\"\"\"\n",
        "\n",
        "    with open(f\"\"\"./dist/jpcoar/{row[\"Study ID\"]}.xml\"\"\", mode=\"w\", encoding=\"utf-8\") as f:\n",
        "        f.write(template)"
      ],
      "metadata": {
        "id": "t0rLj6GV4a5m"
      },
      "execution_count": null,
      "outputs": []
    },
    {
      "cell_type": "markdown",
      "source": [
        "### 9. ResourceListの生成"
      ],
      "metadata": {
        "id": "2qfy2aoOD2Sa"
      }
    },
    {
      "cell_type": "code",
      "source": [
        "def file_md5(file_path, size=4096):\n",
        "    m = hashlib.md5()\n",
        "    with open(file_path, 'rb') as f:\n",
        "        for chunk in iter(lambda: f.read(size * m.block_size), b''):\n",
        "            m.update(chunk)\n",
        "    return m.hexdigest()\n",
        "\n",
        "file_time = datetime.utcnow()\n",
        "now = f\"\"\"{str(file_time.year).zfill(4)}-{str(file_time.month).zfill(2)}-{str(file_time.day).zfill(2)}T{str(file_time.hour).zfill(2)}:{str(file_time.minute).zfill(2)}:{str(file_time.second).zfill(2)}Z\"\"\"\n",
        "\n",
        "pref = \"\"\"<?xml version='1.0' encoding='UTF-8'?>\n",
        "<urlset xmlns=\"http://www.sitemaps.org/schemas/sitemap/0.9\" xmlns:rs=\"http://www.openarchives.org/rs/terms/\">\n",
        "<rs:md at=\"{}\" capability=\"resourcelist\" completed=\"{} \" />\"\"\".format(now, now)\n",
        "directory = \"./dist/jpcoar/\"\n",
        "dir_name = dakit_site_url[0:-1]\n",
        "files_ = os.listdir(directory)\n",
        "\n",
        "for f in files_:\n",
        "    directory = \"./dist/jpcoar/\"\n",
        "    path = directory + f\n",
        "    filename = f\n",
        "    hs = file_md5(path)\n",
        "    change_time = datetime.utcfromtimestamp(os.path.getmtime(path))\n",
        "    lastmod = now = f\"\"\"{str(change_time.year).zfill(4)}-{str(change_time.month).zfill(2)}-{str(change_time.day).zfill(2)}T{str(change_time.hour).zfill(2)}:{str(change_time.minute).zfill(2)}:{str(change_time.second).zfill(2)}Z\"\"\"\n",
        "    length = os.path.getsize(path)\n",
        "    template = f\"\"\"\n",
        "    <url>\n",
        "\t    <loc>{dir_name}/jpcoar/{filename}</loc>\n",
        "\t    <lastmod>{lastmod}</lastmod>\n",
        "\t    <rs:md hash=\"md5:{hs}\" length=\"{length}\" type=\"application/xml\" />\n",
        "      <rs:ln rel=\"describes\" href=\"{dir_name}/jpcoar/{filename}\" />\n",
        "      <rs:ln rel=\"profile\" href=\"https://github.com/JPCOAR/schema/blob/master/1.0/\"/>\n",
        "    </url>\"\"\"\n",
        "    pref = pref + template\n",
        "\n",
        "pref = pref + \"\\n</urlset>\"\n",
        "\n",
        "with open(\"./dist/ResourceList.xml\", mode=\"w\", encoding=\"utf-8\") as f:\n",
        "    f.write(pref)"
      ],
      "metadata": {
        "id": "AXCcrLoI6SSn"
      },
      "execution_count": null,
      "outputs": []
    },
    {
      "cell_type": "markdown",
      "source": [
        "### 10. ダウンロード"
      ],
      "metadata": {
        "id": "SfcBO128D6vD"
      }
    },
    {
      "cell_type": "code",
      "source": [
        "!npx html-beautify --preserve-newlines false ./dist/*/*.html\n",
        "!touch ./dist/.nojekyll\n",
        "!zip -r /content/dakit2_output.zip /content/dakit2-minimal/dist\n",
        "files.download(\"/content/dakit2_output.zip\")"
      ],
      "metadata": {
        "id": "-Fd7ympw6R_5"
      },
      "execution_count": null,
      "outputs": []
    }
  ]
}