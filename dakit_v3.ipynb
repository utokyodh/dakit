{
  "cells": [
    {
      "cell_type": "markdown",
      "metadata": {
        "id": "wsCiqxeOBdxa"
      },
      "source": [
        "### 1. セットアップ\n",
        "時間がかかる場合がありますが、ブラウザを閉じずにお待ちください。"
      ]
    },
    {
      "cell_type": "code",
      "execution_count": null,
      "metadata": {
        "id": "uGN_J69Ch7sA"
      },
      "outputs": [],
      "source": [
        "# Node.jsのインストール\n",
        "!dpkg --configure -a > /dev/null\n",
        "!sudo apt-get update > /dev/null\n",
        "!sudo apt-get install -y ca-certificates curl gnupg > /dev/null\n",
        "!sudo mkdir -p /etc/apt/keyrings\n",
        "!curl -fsSL https://deb.nodesource.com/gpgkey/nodesource-repo.gpg.key | sudo gpg --dearmor -o /etc/apt/keyrings/nodesource.gpg\n",
        "!NODE_MAJOR=18 && echo \"deb [signed-by=/etc/apt/keyrings/nodesource.gpg] https://deb.nodesource.com/node_$NODE_MAJOR.x nodistro main\" | sudo tee /etc/apt/sources.list.d/nodesource.list\n",
        "!sudo apt-get update > /dev/null\n",
        "!sudo apt-get install nodejs -y > /dev/null\n",
        "\n",
        "# 必要なライブラリのインストール\n",
        "!pip install jinja2 > /dev/null\n",
        "!pip install openpyxl > /dev/null\n",
        "!pip install pandas > /dev/null\n",
        "\n",
        "from datetime import datetime\n",
        "import json\n",
        "import os\n",
        "import re\n",
        "from urllib.parse import urlparse\n",
        "\n",
        "from google.colab import files\n",
        "from jinja2 import Template, FileSystemLoader, Environment\n",
        "import openpyxl\n",
        "import pandas as pd\n",
        "\n",
        "###### 関数 ######\n",
        "\n",
        "def get_datetime():\n",
        "    return datetime.now().strftime('%Y%m%d%H%M%S')\n",
        "\n",
        "##################\n",
        "\n",
        "###### 定数 ######\n",
        "\n",
        "env = Environment(loader=FileSystemLoader('.'))\n",
        "\n",
        "##################\n",
        "\n",
        "!rm -rf /content/dakit2-minimal\n",
        "!git clone https://github.com/adachi-a/dakit2-minimal\n",
        "os.chdir(\"/content/dakit2-minimal\")\n",
        "!npm install > /dev/null"
      ]
    },
    {
      "cell_type": "code",
      "execution_count": null,
      "metadata": {
        "id": "TqxgsBvZjNkv"
      },
      "outputs": [],
      "source": [
        "# @title 2. 設定\n",
        "サイトのタイトル = \"\" # @param {type:\"string\"}\n",
        "dakit_site_title = サイトのタイトル\n",
        "サイトの作成者 = \"\" # @param {type:\"string\"}\n",
        "dakit_site_author = サイトの作成者\n",
        "サイトのURL = \"\" # @param {type:\"string\"}\n",
        "dakit_site_url = サイトのURL\n",
        "検索エンジンにインデックスさせない = True # @param {type:\"boolean\"}\n",
        "dakit_noindex = 検索エンジンにインデックスさせない\n",
        "カラーテーマ = \"success\" # @param {type:\"string\"}\n",
        "dakit_bs_theme_bg = カラーテーマ\n",
        "\n",
        "if dakit_site_title == \"\":\n",
        "    raise ValueError(\"dakit_site_titleを空白にすることはできません。\")\n",
        "if dakit_site_author == \"\":\n",
        "    raise ValueError(\"dakit_site_authorを空白にすることはできません。\")\n",
        "if dakit_site_url == \"\":\n",
        "    raise ValueError(\"dakit_site_urlを空白にすることはできません。\")\n",
        "\n",
        "if not dakit_site_url.endswith(\"/\"):\n",
        "    dakit_site_url += \"/\" # add trailing slash\n",
        "\n",
        "base_url_parse_result = urlparse(dakit_site_url)\n",
        "\n",
        "# vite.config.js\n",
        "with open(\"./vite.config.js\", \"w\") as f:\n",
        "    f.write(f\"\"\"\n",
        "import {{ defineConfig }} from 'vite';\n",
        "import {{ svelte }} from '@sveltejs/vite-plugin-svelte';\n",
        "\n",
        "// https://vitejs.dev/config/\n",
        "export default defineConfig({{\n",
        "  plugins: [svelte()],\n",
        "  base: '{base_url_parse_result.path}',\n",
        "}});\n",
        "    \"\"\")"
      ]
    },
    {
      "cell_type": "markdown",
      "metadata": {
        "id": "KyRFCsWkCUR5"
      },
      "source": [
        " ### 3. メタデータの読み込み\n",
        " - 読み込ませるExcelブックは、メタデータを記載した`data`と画像情報を記載した`images`の2つのシートだけを持つ必要があります。\n",
        " - `data`シートの一番左の列は`search_id`とし、列内で重複のないようにします（検索用であり資料のメタデータとは異なります）。\n",
        " - `images`シートは`id`列と`path`列を持ち、`id`列は`data`シートと対応するようにします。`path`列には画像のパスまたはURLを記述します。"
      ]
    },
    {
      "cell_type": "code",
      "execution_count": null,
      "metadata": {
        "id": "n1RO3eK9kIRm"
      },
      "outputs": [],
      "source": [
        "uploaded = files.upload()\n",
        "metadata_filename = next(iter(uploaded))\n",
        "book = openpyxl.load_workbook(metadata_filename)\n",
        "\n",
        "if book.sheetnames != [\"data\", \"images\"]:\n",
        "    raise ValueError('Excelブックは\"data\"と”images\"の2つのシートだけを持つようにします。')\n",
        "\n",
        "catalog = pd.read_excel(metadata_filename, sheet_name=\"data\").fillna(\"\")\n",
        "image_list = pd.read_excel(metadata_filename, sheet_name=\"images\").fillna(\"\")\n",
        "\n",
        "if catalog.columns[0] != \"search_id\":\n",
        "    raise ValueError('dataの一番左の列は常に\"search_id\"とする必要があります。')\n",
        "\n",
        "os.makedirs(\"./public\", exist_ok=True)\n",
        "catalog.to_json(\"./public/data.json\", orient=\"records\", force_ascii=False)\n",
        "\n",
        "# catalogの列一覧を取得し、JDCatメタデータスキーマとのマッピング用のExcelファイルを返す\n",
        "catalog_columns = pd.DataFrame({\"列名\": catalog.columns, \"基本項目\": [\"\" for _ in range(len(catalog.columns))], \"検索ページに表示\": [\"\" for _ in range(\n",
        "    len(catalog.columns))], \"絞り込み\": [\"\" for _ in range(len(catalog.columns))], \"ソート\": [\"\" for _ in range(len(catalog.columns))], \"検索対象\": [\"\" for _ in range(len(catalog.columns))]}).T\n",
        "catalog_columns_datetime = get_datetime()\n",
        "catalog_columns.to_excel(f\"setting_{catalog_columns_datetime}.xlsx\", index=True)\n",
        "files.download(f\"setting_{catalog_columns_datetime}.xlsx\")"
      ]
    },
    {
      "cell_type": "markdown",
      "metadata": {
        "id": "0jV6lNgYU10U"
      },
      "source": [
        "### 4. 設定ファイルの読み込み\n",
        "- 下のセルを実行して、設定用のExcelファイルを読み込みます。"
      ]
    },
    {
      "cell_type": "code",
      "source": [
        "uploaded = files.upload()\n",
        "setting_filename = next(iter(uploaded))\n",
        "\n",
        "setting_df = pd.read_excel(setting_filename, header=0, index_col=None, dtype=str).fillna(\"\").T\n",
        "\n",
        "if setting_df[1].str.contains(\"ID\").sum() != 1:\n",
        "    raise ValueError(\"IDは1つだけ指定してください。\")\n",
        "else:\n",
        "    id_row = tuple(setting_df[setting_df[1].str.contains(\"ID\")][0])[0]\n",
        "\n",
        "if setting_df[1].str.contains(\"Title\").sum() != 1:\n",
        "    raise ValueError(\"Titleは1つだけ指定してください。\")\n",
        "else:\n",
        "    title_row = tuple(setting_df[setting_df[1].str.contains(\"Title\")][0])[0]\n",
        "\n",
        "if setting_df[2].apply(lambda x: len(x.split(\",\")) if x != \"\" else 0).sum() <= 1:\n",
        "    raise ValueError(\"検索ページに表示する項目は1つ以上指定してください。\")\n",
        "\n",
        "if setting_df[3].apply(lambda x: len(x.split(\",\")) if x != \"\" else 0).sum() <= 1:\n",
        "    raise ValueError(\"絞り込み項目は1つ以上指定してください。\")\n",
        "\n",
        "if setting_df[4].apply(lambda x: len(x.split(\",\")) if x != \"\" else 0).sum() <= 1:\n",
        "    raise ValueError(\"ソート項目は1つ以上指定してください。\")\n",
        "\n",
        "if setting_df[5].apply(lambda x: len(x.split(\",\")) if x != \"\" else 0).sum() <= 1:\n",
        "    raise ValueError(\"検索対象項目は1つ以上指定してください。\")"
      ],
      "metadata": {
        "id": "G66tvtMnVTiP"
      },
      "execution_count": null,
      "outputs": []
    },
    {
      "cell_type": "markdown",
      "source": [
        "### 5. ページの生成\n",
        "- 下のセルを実行すると、ページが生成されます。"
      ],
      "metadata": {
        "id": "NdSE_UnsVW8v"
      }
    },
    {
      "cell_type": "code",
      "execution_count": null,
      "metadata": {
        "id": "bDjm-ieYU10U"
      },
      "outputs": [],
      "source": [
        "display_rows = setting_df[setting_df[2] == \"1\"][0].values\n",
        "filter_rows = setting_df[setting_df[3] == \"1\"][0].values\n",
        "sort_rows = setting_df[setting_df[4] == \"1\"][0].values\n",
        "search_target_rows = setting_df[setting_df[5] == \"1\"][0].values\n",
        "\n",
        "dakit_item_id_column_name = id_row\n",
        "dakit_item_title_column_name = title_row\n",
        "\n",
        "fuse_keys = list(search_target_rows)\n",
        "\n",
        "# ソートの設定\n",
        "itemsjs_sortings = {}\n",
        "for row in sort_rows:\n",
        "    itemsjs_sortings[f\"{row}(昇順)\"] = {\"field\": row, \"order\": \"asc\"}\n",
        "    itemsjs_sortings[f\"{row}(降順)\"] = {\"field\": row, \"order\": \"desc\"}\n",
        "\n",
        "# フィルタの設定\n",
        "itemsjs_aggregations = {}\n",
        "for row in filter_rows:\n",
        "    itemsjs_aggregations[row] = {\"title\": row, \"conjunction\": False}\n",
        "\n",
        "# 検索ページの表示方法の設定\n",
        "dakit_display_keys = list(display_rows)\n",
        "dakit_display_keys_string = \",\".join(dakit_display_keys)\n",
        "\n",
        "dakit_display_items_string = \"\"\n",
        "\n",
        "for key in dakit_display_keys:\n",
        "    dakit_display_items_string += f\"{key}: {{{key}}} / \"\n",
        "\n",
        "dakit_display_items_string = dakit_display_items_string[:-3]\n",
        "\n",
        "dakit_display_template_string = f\"\"\"\n",
        "<a href=\"./items/{{{dakit_item_id_column_name}}}.html\" target=\"_blank\"><h5 class=\"mb-0\">{{{dakit_item_title_column_name}}}</h5></a>\n",
        "<p class=\"mb-1\"><small>{dakit_display_items_string}</small></p>\n",
        "\"\"\"\n",
        "\n",
        "# dakit_fuse_keys.json\n",
        "with open(\"./src/dakit_fuse_keys.json\", \"w\") as f:\n",
        "    json.dump(fuse_keys, f, indent=2, ensure_ascii=False)\n",
        "\n",
        "# dakit_itemsjs_configuration.json\n",
        "itemsjs_configuration: dict = {\n",
        "    \"sortings\": itemsjs_sortings,\n",
        "    \"aggregations\": itemsjs_aggregations,\n",
        "    \"removeStopWordFilter\": True,\n",
        "    \"native_search_enabled\": False,\n",
        "    \"custom_id_field\": 'search_id'\n",
        "}\n",
        "\n",
        "with open(\"./src/dakit_itemsjs_configuration.json\", \"w\") as f:\n",
        "    json.dump(itemsjs_configuration, f, indent=2, ensure_ascii=False)\n",
        "\n",
        "template = env.get_template('./kit/Search.svelte.jinja')\n",
        "\n",
        "with open(\"./src/Search.svelte\", \"w\") as f:\n",
        "    f.write(template.render(\n",
        "        dakit_site_title=dakit_site_title,\n",
        "        dakit_site_url=dakit_site_url,\n",
        "        dakit_noindex=dakit_noindex,\n",
        "        dakit_display_keys_string=dakit_display_keys_string,\n",
        "        dakit_display_template_string=dakit_display_template_string,\n",
        "    ))\n",
        "\n",
        "template = env.get_template('./kit/index.html.jinja')\n",
        "\n",
        "with open(\"./index.html\", \"w\") as f:\n",
        "    f.write(template.render(\n",
        "        dakit_site_title=dakit_site_title\n",
        "    ))\n",
        "\n",
        "template = env.get_template('./kit/App.svelte.jinja')\n",
        "\n",
        "with open(\"./src/App.svelte\", \"w\") as f:\n",
        "    f.write(template.render(\n",
        "        dakit_site_title=dakit_site_title,\n",
        "        dakit_noindex=dakit_noindex,\n",
        "        dakit_bs_theme_bg=dakit_bs_theme_bg\n",
        "    ))\n",
        "\n",
        "!npm run build\n",
        "\n",
        "template_image = env.get_template('./kit/item.html.jinja')\n",
        "template_no_image = env.get_template('./kit/item_no_image.html.jinja')\n",
        "items_with_image = set(image_list[\"id\"].to_list())\n",
        "os.makedirs(\"./dist/items/images\", exist_ok=True)\n",
        "\n",
        "for item in catalog.iterrows():\n",
        "    item_id = item[1][dakit_item_id_column_name]\n",
        "    item_title = item[1][dakit_item_title_column_name]\n",
        "    item_metadata = item[1].to_dict()\n",
        "    if item_id not in items_with_image:\n",
        "        template = template_no_image\n",
        "        with open(f\"./dist/items/{item_id}.html\", \"w\") as f:\n",
        "            f.write(template.render(\n",
        "                dakit_site_title=dakit_site_title,\n",
        "                dakit_site_url=dakit_site_url,\n",
        "                dakit_noindex=dakit_noindex,\n",
        "                dakit_bs_theme_bg=dakit_bs_theme_bg,\n",
        "                item_title=item_title,\n",
        "                item_metadata=item_metadata\n",
        "            ))\n",
        "    else:\n",
        "        template = template_image\n",
        "        item_image_list = image_list[image_list[\"id\"] == item_id][\"path\"].to_list()\n",
        "        item_image_array = [{\"src\": x} for x in item_image_list]\n",
        "        with open(f\"./dist/items/{item_id}.html\", \"w\") as f:\n",
        "            f.write(template.render(\n",
        "                dakit_site_title=dakit_site_title,\n",
        "                dakit_site_url=dakit_site_url,\n",
        "                dakit_noindex=dakit_noindex,\n",
        "                dakit_bs_theme_bg=dakit_bs_theme_bg,\n",
        "                item_title=item_title,\n",
        "                item_metadata=item_metadata,\n",
        "                item_image_list=item_image_list,\n",
        "                item_image_array=item_image_array\n",
        "            ))\n",
        "\n",
        "!npx html-beautify --preserve-newlines false ./dist/*/*.html\n",
        "!touch ./dist/.nojekyll\n",
        "!zip -r /content/dakit2_output.zip /content/dakit2-minimal/dist\n",
        "files.download(\"/content/dakit2_output.zip\")\n",
        "print(\"生成が完了しました。\")"
      ]
    },
    {
      "cell_type": "markdown",
      "metadata": {
        "id": "43t8mylRU10V"
      },
      "source": [
        "ダウンロードされたzipファイルをサーバ上に展開し、必要に応じて画像ファイルを追加したら完成です。"
      ]
    }
  ],
  "metadata": {
    "colab": {
      "provenance": []
    },
    "kernelspec": {
      "display_name": "Python 3",
      "name": "python3"
    },
    "language_info": {
      "codemirror_mode": {
        "name": "ipython",
        "version": 3
      },
      "file_extension": ".py",
      "mimetype": "text/x-python",
      "name": "python",
      "nbconvert_exporter": "python",
      "pygments_lexer": "ipython3",
      "version": "3.11.7"
    }
  },
  "nbformat": 4,
  "nbformat_minor": 0
}