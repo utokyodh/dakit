{
  "cells": [
    {
      "cell_type": "markdown",
      "metadata": {
        "id": "JonvMLc-zqUh"
      },
      "source": [
        "# 1. 初期設定"
      ]
    },
    {
      "cell_type": "code",
      "execution_count": null,
      "metadata": {
        "cellView": "form",
        "id": "zfIVMDxhauKk"
      },
      "outputs": [],
      "source": [
        "#@markdown はじめに、サイトの情報を入力して、このセルを実行してください。<br>初期設定には環境によっては時間がかかる場合があります。ブラウザを閉じずにそのままお待ちください。\n",
        "site_title = \"\\u3053\\u3053\\u306B\\u30BF\\u30A4\\u30C8\\u30EB\\u3092\\u5165\\u529B\" #@param {type:\"string\"}\n",
        "site_author = \"\\u3053\\u3053\\u306B\\u30B5\\u30A4\\u30C8\\u306E\\u4F5C\\u6210\\u8005\\u3092\\u5165\\u529B\" #@param {type:\"string\"}\n",
        "\n",
        "##################\n",
        "# 変数の初期設定 #\n",
        "##################\n",
        "\n",
        "site_document_root = \"/\"\n",
        "\n",
        "_dakit_site_title = site_title\n",
        "_dakit_site_title_use_logo = False\n",
        "_dakit_site_author = site_author\n",
        "_dakit_site_noindex = True\n",
        "_dakit_site_document_root = site_document_root\n",
        "\n",
        "# site_document_rootに続く形で、最初のスラッシュは付けずに書く\n",
        "_dakit_site_index_loc = \"index.html\"\n",
        "_dakit_site_js_loc = \"assets/dakit.js\"\n",
        "#_dakit_logo_loc = \"assets/logo.svg\"\n",
        "#_dakit_logo_height = 24\n",
        "#_dakit_logo_custom_style = \"margin-top:-0.4rem\"\n",
        "_dakit_site_catalog_loc = \"data.tsv\"\n",
        "\n",
        "_dakit_list_item_id_col_name = \"item_id\"\n",
        "_dakit_list_item_title_col_name = \"\"\n",
        "_dakit_list_item_url_col_name = \"item_url\"\n",
        "_dakit_list_item_image_col_name = \"item_image\"\n",
        "\n",
        "_dakit_theme_css_from_cdn = True\n",
        "_dakit_theme_css_cdn_tag = '''\n",
        "<link href=\"https://cdn.jsdelivr.net/npm/bootstrap@5.0.2/dist/css/bootstrap.min.css\" rel=\"stylesheet\" integrity=\"sha384-EVSTQN3/azprG1Anm3QDgpJLIm9Nao0Yz1ztcQTwFspd3yD65VohhpuuCOmLASjC\" crossorigin=\"anonymous\">\n",
        "'''\n",
        "#_dakit_theme_css_loc = \"assets/bootstrap.min.css\"\n",
        "_dakit_theme_css_page_custom_css = '''\n",
        "<style>body {min-height: 75rem; padding-top: 4.5rem;}</style>\n",
        "'''\n",
        "\n",
        "_dakit_theme_js_from_cdn = True\n",
        "_dakit_theme_js_cdn_tag = '''\n",
        "<script src=\"https://cdn.jsdelivr.net/npm/bootstrap@5.0.2/dist/js/bootstrap.bundle.min.js\" integrity=\"sha384-MrcW6ZMFYlzcLA8Nl+NtUVF0sA7MsXsP1UyJoMp4YLEuNSfAP+JcXn/tWtIaxVXM\" crossorigin=\"anonymous\"></script>\n",
        "'''\n",
        "#_dakit_theme_js_loc = \"assets/bootstrap.min.js\"\n",
        "\n",
        "_dakit_navbar_color = \"navbar-dark bg-dark\"\n",
        "\n",
        "dakit_config = {}\n",
        "_cfg_site_logo   = {\"enabled\": _dakit_site_title_use_logo}\n",
        "_cfg_site_list   = {\"item_id_col_name\": _dakit_list_item_id_col_name, \"item_title_col_name\": _dakit_list_item_title_col_name, \"item_url_col_name\": _dakit_list_item_url_col_name, \"item_image_col_name\": _dakit_list_item_image_col_name}\n",
        "_cfg_site_navbar = {\"expand\": True, \"color\": _dakit_navbar_color}\n",
        "_cfg_site_theme  = {\"css_from_cdn\": _dakit_theme_css_from_cdn, \"css_cdn_tag\": _dakit_theme_css_cdn_tag, \"js_from_cdn\": _dakit_theme_js_from_cdn, \"js_cdn_tag\": _dakit_theme_js_cdn_tag, \"page_custom_css\": _dakit_theme_css_page_custom_css}\n",
        "\n",
        "dakit_config[\"site\"] = {\n",
        "    \"title\": _dakit_site_title,\n",
        "    \"author\": _dakit_site_author,\n",
        "    \"noindex\": _dakit_site_noindex,\n",
        "    \"index_loc\": _dakit_site_index_loc,\n",
        "    \"js_loc\" : _dakit_site_js_loc,\n",
        "    \"document_root\": _dakit_site_document_root,\n",
        "    \"catalog_loc\": _dakit_site_catalog_loc,\n",
        "    \"logo\": _cfg_site_logo, \"list\": _cfg_site_list, \"navbar\": _cfg_site_navbar, \"theme\": _cfg_site_theme}\n",
        "\n",
        "######################\n",
        "# モジュール読み込み #\n",
        "######################\n",
        "\n",
        "!apt-get install libmagic1 >/dev/null\n",
        "!apt-get install tidy >/dev/null\n",
        "\n",
        "!pip install Pillow >/dev/null\n",
        "!pip install pandas >/dev/null\n",
        "!pip install bs4 >/dev/null\n",
        "!pip install jinja2 >/dev/null\n",
        "!pip install kora >/dev/null\n",
        "!pip install python-magic >/dev/null\n",
        "!pip install pytidylib >/dev/null\n",
        "!pip install tqdm >/dev/null\n",
        "\n",
        "import csv\n",
        "import datetime\n",
        "from io import BytesIO\n",
        "import json\n",
        "import os\n",
        "import re\n",
        "import sys\n",
        "import time\n",
        "import urllib.parse\n",
        "\n",
        "import pandas as pd\n",
        "import requests\n",
        "from bs4 import BeautifulSoup\n",
        "from google.colab import drive, files\n",
        "from IPython.display import clear_output, display, HTML\n",
        "from jinja2 import Environment, FileSystemLoader, Template\n",
        "from kora.xattr import get_id\n",
        "import magic\n",
        "from PIL import Image, ImageOps\n",
        "from tidylib import tidy_document\n",
        "from tqdm.notebook import tqdm\n",
        "\n",
        "%cd \"/content/\"\n",
        "!rm -rf dakit\n",
        "!git clone https://github.com/utokyodh/dakit\n",
        "\n",
        "%cd \"dakit\"\n",
        "!rm -rf output\n",
        "\n",
        "ENV = Environment(\n",
        "    loader=FileSystemLoader(\"./templates/\"),\n",
        "    trim_blocks=True,\n",
        "    lstrip_blocks=True\n",
        ")\n",
        "\n",
        "def upload_file_in_colab() -> str:\n",
        "    uploaded_file = files._upload_files(multiple=False)\n",
        "\n",
        "    if not uploaded_file:\n",
        "        return\n",
        "\n",
        "    if len(uploaded_file) > 1:\n",
        "        raise ValueError(\"このバージョンのノートブックでは、一度に読み込めるファイルは1つだけです。\")\n",
        "\n",
        "    filename, data = list(uploaded_file.items())[0]\n",
        "    filename = files._get_unique_filename(filename)\n",
        "\n",
        "    with open(filename, \"wb\") as f:\n",
        "        f.write(data)\n",
        "\n",
        "    return filename\n",
        "\n",
        "def dakit_load_spreadsheet(filename):\n",
        "\n",
        "    mime_type = magic.from_file(filename, mime=True)\n",
        "    \n",
        "    if mime_type == \"application/vnd.openxmlformats-officedocument.spreadsheetml.sheet\" \\\n",
        "    or mime_type == \"application/vnd.ms-excel\":\n",
        "        df = pd.read_excel(filename, dtype=\"str\").fillna(\"\")\n",
        "    elif mime_type == \"text/plain\":\n",
        "        if magic.from_file(filename, mime=False) not in [\"UTF-8 Unicode text\", \"ASCII text\"]:\n",
        "            raise ValueError(\"CSV・TSVファイルの文字コードはUTF-8である必要があります。\")\n",
        "        else:\n",
        "            with open(filename, encoding=\"utf-8\") as f1:\n",
        "                td1024 = f1.read(1024)\n",
        "                f1.seek(0)\n",
        "                sniffer = csv.Sniffer()\n",
        "                delimiter = sniffer.sniff(td1024).delimiter\n",
        "                has_header = sniffer.has_header(td1024)\n",
        "            if delimiter not in [\"\\t\", \",\"]:\n",
        "                raise ValueError(\"区切り文字が読み取れませんでした。有効なCSV・TSVファイルではないようです。\")\n",
        "            else:\n",
        "                if delimiter == \",\":\n",
        "                    df = pd.read_csv(filename, header=0, dtype=\"str\").fillna(\"\")\n",
        "                else:\n",
        "                    df = pd.read_table(filename, header=0, dtype=\"str\").fillna(\"\")\n",
        "                if not has_header:\n",
        "                    print(\"[Info]ヘッダーが存在する確証が得られませんでした。先頭行が列名として使用されます。\")\n",
        "    else:\n",
        "        raise ValueError(\"対応していないファイル形式です。\")\n",
        "\n",
        "    return df\n",
        "\n",
        "def dakit_validate_catalog_df(df):\n",
        "\n",
        "    columns = df.columns.values\n",
        "\n",
        "    if columns[0] != dakit_config[\"site\"][\"list\"][\"item_id_col_name\"]:\n",
        "        raise ValueError(f\"\"\"表の一番左の列は'{dakit_config[\"site\"][\"list\"][\"item_id_col_name\"]}'という名称である必要があります。\"\"\")\n",
        "    elif columns[1] != dakit_config[\"site\"][\"list\"][\"item_image_col_name\"]:\n",
        "        raise ValueError(\n",
        "            f\"\"\"表の左から2番目の列は'{dakit_config[\"site\"][\"list\"][\"item_image_col_name\"]}'という名称である必要があります。\"\"\")\n",
        "    elif len(columns) != len(set(columns)):\n",
        "        raise ValueError(\"列名は重複しないように指定してください。\")\n",
        "\n",
        "    item_id_list = df[dakit_config[\"site\"][\"list\"][\"item_id_col_name\"]].to_list()\n",
        "\n",
        "    if len(item_id_list) != len(set(item_id_list)):\n",
        "        raise ValueError(f\"\"\"{dakit_config[\"site\"][\"list\"][\"item_id_col_name\"]}は重複しないように指定してください。\"\"\")\n",
        "\n",
        "    return df\n",
        "\n",
        "print(\"\\N{WHITE HEAVY CHECK MARK}初期設定が完了しました\")"
      ]
    },
    {
      "cell_type": "code",
      "execution_count": null,
      "metadata": {
        "cellView": "form",
        "id": "PhxJpg4zNW77"
      },
      "outputs": [],
      "source": [
        "#@markdown このセルを実行するとタイトル部分の色を変更することができます。実行するとプレビューが表示されます。\n",
        "navbar_color_theme = \"navbar-dark bg-dark\" #@param [\"navbar-dark bg-primary\", \"navbar-dark bg-dark\", \"navbar-dark bg-danger\", \"navbar-light bg-secondary\"]\n",
        "dakit_config[\"site\"][\"navbar\"][\"color\"] = navbar_color_theme\n",
        "\n",
        "preview_htm = HTML(f'''\n",
        "<head>\n",
        "    <meta name=\"viewport\" content=\"width=device-width, initial-scale=1.0\">\n",
        "    <link href=\"https://cdn.jsdelivr.net/npm/bootstrap@5.0.2/dist/css/bootstrap.min.css\" rel=\"stylesheet\" integrity=\"sha384-EVSTQN3/azprG1Anm3QDgpJLIm9Nao0Yz1ztcQTwFspd3yD65VohhpuuCOmLASjC\" crossorigin=\"anonymous\">\n",
        "</head>\n",
        "<body>\n",
        "    <div class=\"container\" style=\"height: 100px\">\n",
        "        <nav class=\"navbar fixed-top navbar-expand-sm {dakit_config[\"site\"][\"navbar\"][\"color\"]}\">\n",
        "            <div class=\"container\">\n",
        "                <a class=\"navbar-brand\" href=\"#\">{ dakit_config['site']['title'] }</a>\n",
        "                <button class=\"navbar-toggler\" type=\"button\" data-bs-toggle=\"collapse\" data-bs-target=\"#dakit-navbar\"\n",
        "                    aria-controls=\"dakit-navbar\" aria-expanded=\"false\" aria-label=\"Toggle navigation\">\n",
        "                    <span class=\"navbar-toggler-icon\"></span>\n",
        "                </button>\n",
        "            </div>\n",
        "        </nav>\n",
        "    </div>\n",
        "</body>\n",
        "''')\n",
        "\n",
        "display(preview_htm)"
      ]
    },
    {
      "cell_type": "markdown",
      "metadata": {
        "id": "fJr1xXtRx0G_"
      },
      "source": [
        "# 2. データのアップロード\n",
        "\n",
        "アップロードできるファイルは以下の通りです。\n",
        "\n",
        "* *.tsv（タブ区切りテキスト）\n",
        "* *.csv（カンマ区切りテキスト）\n",
        "* *.xlsx（Excel ブック）\n",
        "* *.xls（Excel 97-2004 ブック）\n",
        "\n",
        "Excel ブックの場合、ファイルの最初のワークシートだけが読み込まれます。文字コードはUTF-8を推奨します。\n"
      ]
    },
    {
      "cell_type": "code",
      "execution_count": null,
      "metadata": {
        "cellView": "form",
        "id": "ouBm6jDiZyot"
      },
      "outputs": [],
      "source": [
        "#@markdown このセルを実行して、資料データ（catalog）をアップロードしてください。\n",
        "catalog_filename = upload_file_in_colab()\n",
        "dakit_catalog = dakit_validate_catalog_df(dakit_load_spreadsheet(catalog_filename))\n",
        "clear_output()\n",
        "print(\"\\N{WHITE HEAVY CHECK MARK}資料データのアップロードが完了しました。データの列名は以下の通りです。\")\n",
        "print(dakit_catalog.columns.values)"
      ]
    },
    {
      "cell_type": "markdown",
      "metadata": {
        "id": "Sg-_Jffoy26J"
      },
      "source": [
        "# 3. 資料データの設定"
      ]
    },
    {
      "cell_type": "code",
      "execution_count": null,
      "metadata": {
        "cellView": "form",
        "id": "TTApHrPwy2Gm"
      },
      "outputs": [],
      "source": [
        "#@markdown 資料の各アイテムの表示名（Webページ上に表示されるタイトル）が入力されている列名を入力し、このセルを実行してください。\n",
        "item_title_column_name = \"\\u3053\\u3053\\u306B\\u5217\\u540D\\u3092\\u5165\\u529B\" #@param {type:\"string\"}\n",
        "if item_title_column_name in dakit_catalog.columns.values:\n",
        "    dakit_config[\"site\"][\"list\"][\"item_title_col_name\"] = item_title_column_name\n",
        "    print(f\"\\N{WHITE HEAVY CHECK MARK}列「{item_title_column_name}」を表示名に指定しました。\")\n",
        "else:\n",
        "    msg = \"指定された列名が資料データに存在しませんでした。列名は次の中から指定する必要があります：\\n\" + str(dakit_catalog.columns.values)\n",
        "    raise ValueError(msg)"
      ]
    },
    {
      "cell_type": "markdown",
      "metadata": {
        "id": "wTKvoGf75fcv"
      },
      "source": [
        "# 4. 検索ページの生成\n",
        "\n"
      ]
    },
    {
      "cell_type": "code",
      "execution_count": null,
      "metadata": {
        "id": "UoJRZWzBV0kG",
        "cellView": "form"
      },
      "outputs": [],
      "source": [
        "#@markdown このセルを実行して、検索ページを生成してください。\n",
        "os.makedirs(\"./output/assets\", exist_ok=True)\n",
        "list_page_template = ENV.get_template(\"list.jinja\")\n",
        "js_template = ENV.get_template(\"dakit-minimal-single.js.jinja\")\n",
        "\n",
        "data = {\"dakit_config\": dakit_config}\n",
        "\n",
        "with open(\"./output/index.html\", mode=\"w\") as f:\n",
        "    document, errors = tidy_document(list_page_template.render(data), options={\"numeric-entities\": 1, \"indent\": \"auto\"})\n",
        "    f.write(document)\n",
        "\n",
        "with open(\"./output/assets/dakit.js\", mode=\"w\") as f:\n",
        "    f.write(js_template.render(data))\n",
        "\n",
        "print(\"\\N{WHITE HEAVY CHECK MARK}生成が完了しました。\")"
      ]
    },
    {
      "cell_type": "markdown",
      "metadata": {
        "id": "I40sZToxWI9W"
      },
      "source": [
        "# 5. 個別ページの生成"
      ]
    },
    {
      "cell_type": "code",
      "execution_count": null,
      "metadata": {
        "id": "ilP-eu_FWTZd",
        "cellView": "form"
      },
      "outputs": [],
      "source": [
        "#@markdown このセルを実行して、アイテムごとの個別ページを生成してください。\n",
        "dakit_catalog_keys = [ x for x in list(dakit_catalog.columns.values) if x not in [dakit_config[\"site\"][\"list\"][\"item_id_col_name\"], dakit_config[\"site\"][\"list\"][\"item_image_col_name\"]]]\n",
        "\n",
        "dakit_has_pdf_image = False\n",
        "\n",
        "for item in dakit_catalog.iterrows():\n",
        "    dic = item[1].to_dict()\n",
        "    for k in dakit_catalog_keys:\n",
        "        dic[k] = str(dic[k])\n",
        "    template = ENV.get_template(\"item-single.jinja\")\n",
        "    page_config = {}\n",
        "    page_config[\"page_title\"] = dic[dakit_config[\"site\"][\"list\"][\"item_title_col_name\"]] + \" - \" + dakit_config[\"site\"][\"title\"]\n",
        "    page_config[\"item_title\"] = dic[dakit_config[\"site\"][\"list\"][\"item_title_col_name\"]]\n",
        "    \n",
        "    image_name = dic[dakit_config[\"site\"][\"list\"][\"item_image_col_name\"]]\n",
        "    \n",
        "    if image_name == \"\":\n",
        "        page_config[\"image_type\"] = \"\"\n",
        "        page_config['image_single_loc'] = \"\"\n",
        "    elif image_name.split(\".\")[-1].lower() == \"pdf\":\n",
        "        dakit_has_pdf_image = True\n",
        "        page_config[\"image_type\"] = \"pdf\"\n",
        "        page_config['image_single_loc'] = dic[dakit_config[\"site\"][\"list\"][\"item_image_col_name\"]]\n",
        "    else:\n",
        "        page_config[\"image_type\"] = \"single\"\n",
        "        page_config['image_single_loc'] = dic[dakit_config[\"site\"][\"list\"][\"item_image_col_name\"]]\n",
        "    \n",
        "    data = {\"dakit_config\": dakit_config, \"page_config\": page_config, \"dic\":dic, \"keys\":dakit_catalog_keys}\n",
        "    with open(f\"\"\"./output/{dic[dakit_config[\"site\"][\"list\"][\"item_id_col_name\"]]}.html\"\"\", mode=\"w\") as f:\n",
        "        document, errors = tidy_document(template.render(data), options={\"numeric-entities\": 1, \"indent\": \"auto\"})\n",
        "        f.write(document)\n",
        "        \n",
        "if dakit_has_pdf_image:\n",
        "    print(\"PDFファイルを表示するために、次のセルを実行して必要なファイルをダウンロードしてください。\")    \n",
        "\n",
        "print(\"\\N{WHITE HEAVY CHECK MARK}生成が完了しました。\")"
      ]
    },
    {
      "cell_type": "code",
      "execution_count": null,
      "metadata": {
        "id": "GnJj9Qvlw1G-",
        "cellView": "form"
      },
      "outputs": [],
      "source": [
        "#@markdown PDFファイルを公開する場合は、このセルを実行して追加のファイルをダウンロードします。\n",
        "!wget https://github.com/mozilla/pdf.js/releases/download/v3.1.81/pdfjs-3.1.81-dist.zip\n",
        "!unzip pdfjs-3.1.81-dist.zip -d ./output/pdfjs"
      ]
    },
    {
      "cell_type": "markdown",
      "metadata": {
        "id": "S_HwB5rZqJ-3"
      },
      "source": [
        "# 6. 検索ページ用TSVファイルの作成"
      ]
    },
    {
      "cell_type": "code",
      "execution_count": null,
      "metadata": {
        "cellView": "form",
        "id": "xvXEoAVqqIUi"
      },
      "outputs": [],
      "source": [
        "#@markdown このセルを実行して、検索ページ用のTSVファイルを生成してください。\n",
        "\n",
        "dakit_catalog[dakit_config[\"site\"][\"list\"][\"item_url_col_name\"]] = dakit_config[\"site\"][\"document_root\"] + dakit_catalog[dakit_config[\"site\"][\"list\"][\"item_id_col_name\"]] + \".html\"\n",
        "dakit_catalog.to_csv(\"./output/data.tsv\", sep=\"\\t\", index=False)\n",
        "\n",
        "print(\"\\N{WHITE HEAVY CHECK MARK}生成が完了しました。\")"
      ]
    },
    {
      "cell_type": "markdown",
      "metadata": {
        "id": "WSlmuLfPBNOS"
      },
      "source": [
        "# 7. ダウンロード"
      ]
    },
    {
      "cell_type": "code",
      "execution_count": null,
      "metadata": {
        "cellView": "form",
        "id": "RAW68XN7tJJa"
      },
      "outputs": [],
      "source": [
        "#@markdown このセルを実行して、完成したファイル一式をzipファイルとしてダウンロードしてください。\n",
        "!zip -r output.zip output/\n",
        "files.download(\"output.zip\")"
      ]
    }
  ],
  "metadata": {
    "colab": {
      "provenance": []
    },
    "kernelspec": {
      "display_name": "base",
      "language": "python",
      "name": "python3"
    },
    "language_info": {
      "name": "python",
      "version": "3.10.6 | packaged by conda-forge | (main, Aug 22 2022, 20:38:29) [Clang 13.0.1 ]"
    },
    "vscode": {
      "interpreter": {
        "hash": "faeccf34e84647bd47baf37494c7c8f34a9bb312401dbb6f83725ddc0ea874d5"
      }
    }
  },
  "nbformat": 4,
  "nbformat_minor": 0
}